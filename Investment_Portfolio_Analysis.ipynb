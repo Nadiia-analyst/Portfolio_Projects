{
  "cells": [
    {
      "cell_type": "code",
      "execution_count": null,
      "metadata": {
        "colab": {
          "base_uri": "https://localhost:8080/"
        },
        "id": "k0kSmL7gd74I",
        "outputId": "1f992c1d-ec52-4532-c24f-d7d9f73375ba"
      },
      "outputs": [
        {
          "name": "stdout",
          "output_type": "stream",
          "text": [
            "Requirement already satisfied: pandas-datareader in /usr/local/lib/python3.7/dist-packages (0.10.0)\n",
            "Requirement already satisfied: pandas>=0.23 in /usr/local/lib/python3.7/dist-packages (from pandas-datareader) (1.1.5)\n",
            "Requirement already satisfied: requests>=2.19.0 in /usr/local/lib/python3.7/dist-packages (from pandas-datareader) (2.23.0)\n",
            "Requirement already satisfied: lxml in /usr/local/lib/python3.7/dist-packages (from pandas-datareader) (4.2.6)\n",
            "Requirement already satisfied: numpy>=1.15.4 in /usr/local/lib/python3.7/dist-packages (from pandas>=0.23->pandas-datareader) (1.19.5)\n",
            "Requirement already satisfied: python-dateutil>=2.7.3 in /usr/local/lib/python3.7/dist-packages (from pandas>=0.23->pandas-datareader) (2.8.2)\n",
            "Requirement already satisfied: pytz>=2017.2 in /usr/local/lib/python3.7/dist-packages (from pandas>=0.23->pandas-datareader) (2018.9)\n",
            "Requirement already satisfied: six>=1.5 in /usr/local/lib/python3.7/dist-packages (from python-dateutil>=2.7.3->pandas>=0.23->pandas-datareader) (1.15.0)\n",
            "Requirement already satisfied: urllib3!=1.25.0,!=1.25.1,<1.26,>=1.21.1 in /usr/local/lib/python3.7/dist-packages (from requests>=2.19.0->pandas-datareader) (1.24.3)\n",
            "Requirement already satisfied: chardet<4,>=3.0.2 in /usr/local/lib/python3.7/dist-packages (from requests>=2.19.0->pandas-datareader) (3.0.4)\n",
            "Requirement already satisfied: certifi>=2017.4.17 in /usr/local/lib/python3.7/dist-packages (from requests>=2.19.0->pandas-datareader) (2021.5.30)\n",
            "Requirement already satisfied: idna<3,>=2.5 in /usr/local/lib/python3.7/dist-packages (from requests>=2.19.0->pandas-datareader) (2.10)\n",
            "Requirement already satisfied: fix_yahoo_finance in /usr/local/lib/python3.7/dist-packages (0.1.35)\n",
            "Collecting fix_yahoo_finance\n",
            "  Using cached fix-yahoo-finance-0.1.37.tar.gz (6.3 kB)\n",
            "\u001b[33mWARNING: Discarding https://files.pythonhosted.org/packages/a5/f3/aba3b563452faaea71b4161754991e3143751ec9141d83c4bce05992332a/fix-yahoo-finance-0.1.37.tar.gz#sha256=dd337e30907c5625937ca001a205fb4de12a04c12ddc85c90356b4546e651561 (from https://pypi.org/simple/fix-yahoo-finance/). Command errored out with exit status 1: python setup.py egg_info Check the logs for full command output.\u001b[0m\n",
            "  Using cached fix-yahoo-finance-0.1.36.tar.gz (6.2 kB)\n",
            "\u001b[33mWARNING: Discarding https://files.pythonhosted.org/packages/f9/df/e97d13ecf7b4dcb358a73606c098faecf793da05d9025608a8a74ab45bd3/fix-yahoo-finance-0.1.36.tar.gz#sha256=50ceef149d3710e652f51cadfe8e3bfb96eb98d61c31ae924c7d44a4c1a9766f (from https://pypi.org/simple/fix-yahoo-finance/). Command errored out with exit status 1: python setup.py egg_info Check the logs for full command output.\u001b[0m\n",
            "Requirement already satisfied: multitasking>=0.0.7 in /usr/local/lib/python3.7/dist-packages (from fix_yahoo_finance) (0.0.9)\n",
            "Requirement already satisfied: pandas>=0.24 in /usr/local/lib/python3.7/dist-packages (from fix_yahoo_finance) (1.1.5)\n",
            "Requirement already satisfied: requests>=2.20 in /usr/local/lib/python3.7/dist-packages (from fix_yahoo_finance) (2.23.0)\n",
            "Requirement already satisfied: numpy>=1.15 in /usr/local/lib/python3.7/dist-packages (from fix_yahoo_finance) (1.19.5)\n",
            "Requirement already satisfied: python-dateutil>=2.7.3 in /usr/local/lib/python3.7/dist-packages (from pandas>=0.24->fix_yahoo_finance) (2.8.2)\n",
            "Requirement already satisfied: pytz>=2017.2 in /usr/local/lib/python3.7/dist-packages (from pandas>=0.24->fix_yahoo_finance) (2018.9)\n",
            "Requirement already satisfied: six>=1.5 in /usr/local/lib/python3.7/dist-packages (from python-dateutil>=2.7.3->pandas>=0.24->fix_yahoo_finance) (1.15.0)\n",
            "Requirement already satisfied: chardet<4,>=3.0.2 in /usr/local/lib/python3.7/dist-packages (from requests>=2.20->fix_yahoo_finance) (3.0.4)\n",
            "Requirement already satisfied: certifi>=2017.4.17 in /usr/local/lib/python3.7/dist-packages (from requests>=2.20->fix_yahoo_finance) (2021.5.30)\n",
            "Requirement already satisfied: idna<3,>=2.5 in /usr/local/lib/python3.7/dist-packages (from requests>=2.20->fix_yahoo_finance) (2.10)\n",
            "Requirement already satisfied: urllib3!=1.25.0,!=1.25.1,<1.26,>=1.21.1 in /usr/local/lib/python3.7/dist-packages (from requests>=2.20->fix_yahoo_finance) (1.24.3)\n"
          ]
        }
      ],
      "source": [
        "import pandas as pd\n",
        "!pip install pandas-datareader -U\n",
        "!pip install fix_yahoo_finance -U"
      ]
    },
    {
      "cell_type": "code",
      "execution_count": null,
      "metadata": {
        "id": "ILUzAdqkekG7"
      },
      "outputs": [],
      "source": [
        ""
      ]
    },
    {
      "cell_type": "code",
      "execution_count": null,
      "metadata": {
        "id": "ZUGlebMYet0w"
      },
      "outputs": [],
      "source": [
        "from pandas_datareader import data as pdr \n",
        "import fix_yahoo_finance as yf"
      ]
    },
    {
      "cell_type": "code",
      "execution_count": null,
      "metadata": {
        "id": "T7iNDtfQet5S"
      },
      "outputs": [],
      "source": [
        "yf.pdr_override()"
      ]
    },
    {
      "cell_type": "code",
      "execution_count": null,
      "metadata": {
        "colab": {
          "background_save": true
        },
        "id": "TFnrJ94ket-o",
        "outputId": "bf9c310c-61ed-47c0-adf7-2271205db213"
      },
      "outputs": [

      ],
      "source": [
        "df0=pdr.get_data_yahoo(\"SPY\", start=\"2020-04-01\", end=\"2021-04-1\")\n",
        "df1=pdr.get_data_yahoo(\"TSLA\", start=\"2020-04-01\", end=\"2021-04-1\")\n",
        "df2=pdr.get_data_yahoo(\"BA\", start=\"2020-04-01\", end=\"2021-04-1\")\n",
        "df3=pdr.get_data_yahoo(\"NLS\", start=\"2020-04-01\", end=\"2021-04-1\")\n",
        "df4=pdr.get_data_yahoo(\"DIS\", start=\"2020-04-01\", end=\"2021-04-1\")\n",
        "df5=pdr.get_data_yahoo(\"LULU\", start=\"2020-04-01\", end=\"2021-04-1\")\n"
      ]
    },
    {
      "cell_type": "code",
      "execution_count": null,
      "metadata": {
        "colab": {
          "base_uri": "https://localhost:8080/",
          "height": 450
        },
        "id": "52AvP6MQY9Ps",
        "outputId": "fb4fe97c-24a3-411f-e765-b4b7d8193c6d"
      },
      "outputs": [
        {
          "data": {
            "text/html": [
              "<div>\n",
              "<style scoped>\n",
              "    .dataframe tbody tr th:only-of-type {\n",
              "        vertical-align: middle;\n",
              "    }\n",
              "\n",
              "    .dataframe tbody tr th {\n",
              "        vertical-align: top;\n",
              "    }\n",
              "\n",
              "    .dataframe thead th {\n",
              "        text-align: right;\n",
              "    }\n",
              "</style>\n",
              "<table border=\"1\" class=\"dataframe\">\n",
              "  <thead>\n",
              "    <tr style=\"text-align: right;\">\n",
              "      <th></th>\n",
              "      <th>Open</th>\n",
              "      <th>High</th>\n",
              "      <th>Low</th>\n",
              "      <th>Close</th>\n",
              "      <th>Adj Close</th>\n",
              "      <th>Volume</th>\n",
              "    </tr>\n",
              "    <tr>\n",
              "      <th>Date</th>\n",
              "      <th></th>\n",
              "      <th></th>\n",
              "      <th></th>\n",
              "      <th></th>\n",
              "      <th></th>\n",
              "      <th></th>\n",
              "    </tr>\n",
              "  </thead>\n",
              "  <tbody>\n",
              "    <tr>\n",
              "      <th>2020-04-01</th>\n",
              "      <td>2.50</td>\n",
              "      <td>2.72</td>\n",
              "      <td>2.28</td>\n",
              "      <td>2.71</td>\n",
              "      <td>2.71</td>\n",
              "      <td>1649300</td>\n",
              "    </tr>\n",
              "    <tr>\n",
              "      <th>2020-04-02</th>\n",
              "      <td>2.78</td>\n",
              "      <td>2.88</td>\n",
              "      <td>2.38</td>\n",
              "      <td>2.46</td>\n",
              "      <td>2.46</td>\n",
              "      <td>713900</td>\n",
              "    </tr>\n",
              "    <tr>\n",
              "      <th>2020-04-03</th>\n",
              "      <td>2.40</td>\n",
              "      <td>2.57</td>\n",
              "      <td>2.29</td>\n",
              "      <td>2.48</td>\n",
              "      <td>2.48</td>\n",
              "      <td>472400</td>\n",
              "    </tr>\n",
              "    <tr>\n",
              "      <th>2020-04-06</th>\n",
              "      <td>2.60</td>\n",
              "      <td>2.61</td>\n",
              "      <td>2.33</td>\n",
              "      <td>2.41</td>\n",
              "      <td>2.41</td>\n",
              "      <td>695800</td>\n",
              "    </tr>\n",
              "    <tr>\n",
              "      <th>2020-04-07</th>\n",
              "      <td>2.47</td>\n",
              "      <td>2.56</td>\n",
              "      <td>2.16</td>\n",
              "      <td>2.22</td>\n",
              "      <td>2.22</td>\n",
              "      <td>1067900</td>\n",
              "    </tr>\n",
              "    <tr>\n",
              "      <th>...</th>\n",
              "      <td>...</td>\n",
              "      <td>...</td>\n",
              "      <td>...</td>\n",
              "      <td>...</td>\n",
              "      <td>...</td>\n",
              "      <td>...</td>\n",
              "    </tr>\n",
              "    <tr>\n",
              "      <th>2021-03-25</th>\n",
              "      <td>15.00</td>\n",
              "      <td>15.60</td>\n",
              "      <td>14.41</td>\n",
              "      <td>15.49</td>\n",
              "      <td>15.49</td>\n",
              "      <td>2496000</td>\n",
              "    </tr>\n",
              "    <tr>\n",
              "      <th>2021-03-26</th>\n",
              "      <td>15.60</td>\n",
              "      <td>15.93</td>\n",
              "      <td>14.09</td>\n",
              "      <td>15.13</td>\n",
              "      <td>15.13</td>\n",
              "      <td>1795900</td>\n",
              "    </tr>\n",
              "    <tr>\n",
              "      <th>2021-03-29</th>\n",
              "      <td>15.23</td>\n",
              "      <td>15.71</td>\n",
              "      <td>14.35</td>\n",
              "      <td>14.77</td>\n",
              "      <td>14.77</td>\n",
              "      <td>1217700</td>\n",
              "    </tr>\n",
              "    <tr>\n",
              "      <th>2021-03-30</th>\n",
              "      <td>14.86</td>\n",
              "      <td>15.28</td>\n",
              "      <td>14.43</td>\n",
              "      <td>15.24</td>\n",
              "      <td>15.24</td>\n",
              "      <td>773600</td>\n",
              "    </tr>\n",
              "    <tr>\n",
              "      <th>2021-03-31</th>\n",
              "      <td>15.39</td>\n",
              "      <td>15.87</td>\n",
              "      <td>15.25</td>\n",
              "      <td>15.64</td>\n",
              "      <td>15.64</td>\n",
              "      <td>1083700</td>\n",
              "    </tr>\n",
              "  </tbody>\n",
              "</table>\n",
              "<p>252 rows × 6 columns</p>\n",
              "</div>"
            ],
            "text/plain": [
              "             Open   High    Low  Close  Adj Close   Volume\n",
              "Date                                                      \n",
              "2020-04-01   2.50   2.72   2.28   2.71       2.71  1649300\n",
              "2020-04-02   2.78   2.88   2.38   2.46       2.46   713900\n",
              "2020-04-03   2.40   2.57   2.29   2.48       2.48   472400\n",
              "2020-04-06   2.60   2.61   2.33   2.41       2.41   695800\n",
              "2020-04-07   2.47   2.56   2.16   2.22       2.22  1067900\n",
              "...           ...    ...    ...    ...        ...      ...\n",
              "2021-03-25  15.00  15.60  14.41  15.49      15.49  2496000\n",
              "2021-03-26  15.60  15.93  14.09  15.13      15.13  1795900\n",
              "2021-03-29  15.23  15.71  14.35  14.77      14.77  1217700\n",
              "2021-03-30  14.86  15.28  14.43  15.24      15.24   773600\n",
              "2021-03-31  15.39  15.87  15.25  15.64      15.64  1083700\n",
              "\n",
              "[252 rows x 6 columns]"
            ]
          },
          "execution_count": 92,
          "metadata": {
            "tags": []
          },
          "output_type": "execute_result"
        }
      ],
      "source": [
        "df3"
      ]
    },
    {
      "cell_type": "code",
      "execution_count": null,
      "metadata": {
        "colab": {
          "base_uri": "https://localhost:8080/",
          "height": 450
        },
        "id": "2bNjDbPupESV",
        "outputId": "54a14a11-1fd0-42e7-b240-a29640382051"
      },
      "outputs": [
        {
          "data": {
            "text/html": [
              "<div>\n",
              "<style scoped>\n",
              "    .dataframe tbody tr th:only-of-type {\n",
              "        vertical-align: middle;\n",
              "    }\n",
              "\n",
              "    .dataframe tbody tr th {\n",
              "        vertical-align: top;\n",
              "    }\n",
              "\n",
              "    .dataframe thead th {\n",
              "        text-align: right;\n",
              "    }\n",
              "</style>\n",
              "<table border=\"1\" class=\"dataframe\">\n",
              "  <thead>\n",
              "    <tr style=\"text-align: right;\">\n",
              "      <th></th>\n",
              "      <th>Open</th>\n",
              "      <th>High</th>\n",
              "      <th>Low</th>\n",
              "      <th>Close</th>\n",
              "      <th>Adj Close</th>\n",
              "      <th>Volume</th>\n",
              "    </tr>\n",
              "    <tr>\n",
              "      <th>Date</th>\n",
              "      <th></th>\n",
              "      <th></th>\n",
              "      <th></th>\n",
              "      <th></th>\n",
              "      <th></th>\n",
              "      <th></th>\n",
              "    </tr>\n",
              "  </thead>\n",
              "  <tbody>\n",
              "    <tr>\n",
              "      <th>2020-04-01</th>\n",
              "      <td>2.50</td>\n",
              "      <td>2.72</td>\n",
              "      <td>2.28</td>\n",
              "      <td>2.71</td>\n",
              "      <td>2.71</td>\n",
              "      <td>1649300</td>\n",
              "    </tr>\n",
              "    <tr>\n",
              "      <th>2020-04-02</th>\n",
              "      <td>2.78</td>\n",
              "      <td>2.88</td>\n",
              "      <td>2.38</td>\n",
              "      <td>2.46</td>\n",
              "      <td>2.46</td>\n",
              "      <td>713900</td>\n",
              "    </tr>\n",
              "    <tr>\n",
              "      <th>2020-04-03</th>\n",
              "      <td>2.40</td>\n",
              "      <td>2.57</td>\n",
              "      <td>2.29</td>\n",
              "      <td>2.48</td>\n",
              "      <td>2.48</td>\n",
              "      <td>472400</td>\n",
              "    </tr>\n",
              "    <tr>\n",
              "      <th>2020-04-06</th>\n",
              "      <td>2.60</td>\n",
              "      <td>2.61</td>\n",
              "      <td>2.33</td>\n",
              "      <td>2.41</td>\n",
              "      <td>2.41</td>\n",
              "      <td>695800</td>\n",
              "    </tr>\n",
              "    <tr>\n",
              "      <th>2020-04-07</th>\n",
              "      <td>2.47</td>\n",
              "      <td>2.56</td>\n",
              "      <td>2.16</td>\n",
              "      <td>2.22</td>\n",
              "      <td>2.22</td>\n",
              "      <td>1067900</td>\n",
              "    </tr>\n",
              "    <tr>\n",
              "      <th>...</th>\n",
              "      <td>...</td>\n",
              "      <td>...</td>\n",
              "      <td>...</td>\n",
              "      <td>...</td>\n",
              "      <td>...</td>\n",
              "      <td>...</td>\n",
              "    </tr>\n",
              "    <tr>\n",
              "      <th>2021-03-25</th>\n",
              "      <td>15.00</td>\n",
              "      <td>15.60</td>\n",
              "      <td>14.41</td>\n",
              "      <td>15.49</td>\n",
              "      <td>15.49</td>\n",
              "      <td>2496000</td>\n",
              "    </tr>\n",
              "    <tr>\n",
              "      <th>2021-03-26</th>\n",
              "      <td>15.60</td>\n",
              "      <td>15.93</td>\n",
              "      <td>14.09</td>\n",
              "      <td>15.13</td>\n",
              "      <td>15.13</td>\n",
              "      <td>1795900</td>\n",
              "    </tr>\n",
              "    <tr>\n",
              "      <th>2021-03-29</th>\n",
              "      <td>15.23</td>\n",
              "      <td>15.71</td>\n",
              "      <td>14.35</td>\n",
              "      <td>14.77</td>\n",
              "      <td>14.77</td>\n",
              "      <td>1217700</td>\n",
              "    </tr>\n",
              "    <tr>\n",
              "      <th>2021-03-30</th>\n",
              "      <td>14.86</td>\n",
              "      <td>15.28</td>\n",
              "      <td>14.43</td>\n",
              "      <td>15.24</td>\n",
              "      <td>15.24</td>\n",
              "      <td>773600</td>\n",
              "    </tr>\n",
              "    <tr>\n",
              "      <th>2021-03-31</th>\n",
              "      <td>15.39</td>\n",
              "      <td>15.87</td>\n",
              "      <td>15.25</td>\n",
              "      <td>15.64</td>\n",
              "      <td>15.64</td>\n",
              "      <td>1083700</td>\n",
              "    </tr>\n",
              "  </tbody>\n",
              "</table>\n",
              "<p>252 rows × 6 columns</p>\n",
              "</div>"
            ],
            "text/plain": [
              "             Open   High    Low  Close  Adj Close   Volume\n",
              "Date                                                      \n",
              "2020-04-01   2.50   2.72   2.28   2.71       2.71  1649300\n",
              "2020-04-02   2.78   2.88   2.38   2.46       2.46   713900\n",
              "2020-04-03   2.40   2.57   2.29   2.48       2.48   472400\n",
              "2020-04-06   2.60   2.61   2.33   2.41       2.41   695800\n",
              "2020-04-07   2.47   2.56   2.16   2.22       2.22  1067900\n",
              "...           ...    ...    ...    ...        ...      ...\n",
              "2021-03-25  15.00  15.60  14.41  15.49      15.49  2496000\n",
              "2021-03-26  15.60  15.93  14.09  15.13      15.13  1795900\n",
              "2021-03-29  15.23  15.71  14.35  14.77      14.77  1217700\n",
              "2021-03-30  14.86  15.28  14.43  15.24      15.24   773600\n",
              "2021-03-31  15.39  15.87  15.25  15.64      15.64  1083700\n",
              "\n",
              "[252 rows x 6 columns]"
            ]
          },
          "execution_count": 93,
          "metadata": {
            "tags": []
          },
          "output_type": "execute_result"
        }
      ],
      "source": [
        "df3"
      ]
    },
    {
      "cell_type": "code",
      "execution_count": null,
      "metadata": {
        "colab": {
          "base_uri": "https://localhost:8080/",
          "height": 450
        },
        "id": "kAnHMlYOeuEo",
        "outputId": "674f3dbb-584b-4a92-d8a2-17d8a4721280"
      },
      "outputs": [
        {
          "data": {
            "text/html": [
              "<div>\n",
              "<style scoped>\n",
              "    .dataframe tbody tr th:only-of-type {\n",
              "        vertical-align: middle;\n",
              "    }\n",
              "\n",
              "    .dataframe tbody tr th {\n",
              "        vertical-align: top;\n",
              "    }\n",
              "\n",
              "    .dataframe thead th {\n",
              "        text-align: right;\n",
              "    }\n",
              "</style>\n",
              "<table border=\"1\" class=\"dataframe\">\n",
              "  <thead>\n",
              "    <tr style=\"text-align: right;\">\n",
              "      <th></th>\n",
              "      <th>Open</th>\n",
              "      <th>High</th>\n",
              "      <th>Low</th>\n",
              "      <th>Close</th>\n",
              "      <th>Adj Close</th>\n",
              "      <th>Volume</th>\n",
              "    </tr>\n",
              "    <tr>\n",
              "      <th>Date</th>\n",
              "      <th></th>\n",
              "      <th></th>\n",
              "      <th></th>\n",
              "      <th></th>\n",
              "      <th></th>\n",
              "      <th></th>\n",
              "    </tr>\n",
              "  </thead>\n",
              "  <tbody>\n",
              "    <tr>\n",
              "      <th>2020-04-01</th>\n",
              "      <td>100.800003</td>\n",
              "      <td>102.790001</td>\n",
              "      <td>95.019997</td>\n",
              "      <td>96.311996</td>\n",
              "      <td>96.311996</td>\n",
              "      <td>66766000</td>\n",
              "    </tr>\n",
              "    <tr>\n",
              "      <th>2020-04-02</th>\n",
              "      <td>96.206001</td>\n",
              "      <td>98.851997</td>\n",
              "      <td>89.279999</td>\n",
              "      <td>90.893997</td>\n",
              "      <td>90.893997</td>\n",
              "      <td>99292000</td>\n",
              "    </tr>\n",
              "    <tr>\n",
              "      <th>2020-04-03</th>\n",
              "      <td>101.900002</td>\n",
              "      <td>103.098000</td>\n",
              "      <td>93.678001</td>\n",
              "      <td>96.001999</td>\n",
              "      <td>96.001999</td>\n",
              "      <td>112810500</td>\n",
              "    </tr>\n",
              "    <tr>\n",
              "      <th>2020-04-06</th>\n",
              "      <td>102.239998</td>\n",
              "      <td>104.199997</td>\n",
              "      <td>99.592003</td>\n",
              "      <td>103.248001</td>\n",
              "      <td>103.248001</td>\n",
              "      <td>74509000</td>\n",
              "    </tr>\n",
              "    <tr>\n",
              "      <th>2020-04-07</th>\n",
              "      <td>109.000000</td>\n",
              "      <td>113.000000</td>\n",
              "      <td>106.468002</td>\n",
              "      <td>109.089996</td>\n",
              "      <td>109.089996</td>\n",
              "      <td>89599000</td>\n",
              "    </tr>\n",
              "    <tr>\n",
              "      <th>...</th>\n",
              "      <td>...</td>\n",
              "      <td>...</td>\n",
              "      <td>...</td>\n",
              "      <td>...</td>\n",
              "      <td>...</td>\n",
              "      <td>...</td>\n",
              "    </tr>\n",
              "    <tr>\n",
              "      <th>2021-03-25</th>\n",
              "      <td>613.000000</td>\n",
              "      <td>645.500000</td>\n",
              "      <td>609.500000</td>\n",
              "      <td>640.390015</td>\n",
              "      <td>640.390015</td>\n",
              "      <td>39224900</td>\n",
              "    </tr>\n",
              "    <tr>\n",
              "      <th>2021-03-26</th>\n",
              "      <td>641.869995</td>\n",
              "      <td>643.820007</td>\n",
              "      <td>599.890015</td>\n",
              "      <td>618.710022</td>\n",
              "      <td>618.710022</td>\n",
              "      <td>33852800</td>\n",
              "    </tr>\n",
              "    <tr>\n",
              "      <th>2021-03-29</th>\n",
              "      <td>615.640015</td>\n",
              "      <td>616.479980</td>\n",
              "      <td>596.020020</td>\n",
              "      <td>611.289978</td>\n",
              "      <td>611.289978</td>\n",
              "      <td>28637000</td>\n",
              "    </tr>\n",
              "    <tr>\n",
              "      <th>2021-03-30</th>\n",
              "      <td>601.750000</td>\n",
              "      <td>637.659973</td>\n",
              "      <td>591.010010</td>\n",
              "      <td>635.619995</td>\n",
              "      <td>635.619995</td>\n",
              "      <td>39432400</td>\n",
              "    </tr>\n",
              "    <tr>\n",
              "      <th>2021-03-31</th>\n",
              "      <td>646.619995</td>\n",
              "      <td>672.000000</td>\n",
              "      <td>641.109985</td>\n",
              "      <td>667.929993</td>\n",
              "      <td>667.929993</td>\n",
              "      <td>33337300</td>\n",
              "    </tr>\n",
              "  </tbody>\n",
              "</table>\n",
              "<p>252 rows × 6 columns</p>\n",
              "</div>"
            ],
            "text/plain": [
              "                  Open        High  ...   Adj Close     Volume\n",
              "Date                                ...                       \n",
              "2020-04-01  100.800003  102.790001  ...   96.311996   66766000\n",
              "2020-04-02   96.206001   98.851997  ...   90.893997   99292000\n",
              "2020-04-03  101.900002  103.098000  ...   96.001999  112810500\n",
              "2020-04-06  102.239998  104.199997  ...  103.248001   74509000\n",
              "2020-04-07  109.000000  113.000000  ...  109.089996   89599000\n",
              "...                ...         ...  ...         ...        ...\n",
              "2021-03-25  613.000000  645.500000  ...  640.390015   39224900\n",
              "2021-03-26  641.869995  643.820007  ...  618.710022   33852800\n",
              "2021-03-29  615.640015  616.479980  ...  611.289978   28637000\n",
              "2021-03-30  601.750000  637.659973  ...  635.619995   39432400\n",
              "2021-03-31  646.619995  672.000000  ...  667.929993   33337300\n",
              "\n",
              "[252 rows x 6 columns]"
            ]
          },
          "execution_count": 94,
          "metadata": {
            "tags": []
          },
          "output_type": "execute_result"
        }
      ],
      "source": [
        "df1"
      ]
    },
    {
      "cell_type": "code",
      "execution_count": null,
      "metadata": {
        "id": "N8gHxmzceuJP"
      },
      "outputs": [],
      "source": [
        "return_spy=df0.Close.pct_change()[1:]\n",
        "return_tsla=df1.Close.pct_change()[1:]\n",
        "return_ba=df2.Close.pct_change()[1:]\n",
        "return_nls=df3.Close.pct_change()[1:]\n",
        "return_dis=df4.Close.pct_change()[1:]\n",
        "return_lulu=df4.Close.pct_change()[1:]"
      ]
    },
    {
      "cell_type": "code",
      "execution_count": null,
      "metadata": {
        "colab": {
          "base_uri": "https://localhost:8080/"
        },
        "id": "gb9Mi7dxgkxM",
        "outputId": "bb03d55c-d4a3-45dd-d63c-9061a506829e"
      },
      "outputs": [
        {
          "data": {
            "text/plain": [
              "Date\n",
              "2020-04-02   -0.056255\n",
              "2020-04-03    0.056197\n",
              "2020-04-06    0.075478\n",
              "2020-04-07    0.056582\n",
              "2020-04-08    0.006215\n",
              "                ...   \n",
              "2021-03-25    0.016057\n",
              "2021-03-26   -0.033854\n",
              "2021-03-29   -0.011993\n",
              "2021-03-30    0.039801\n",
              "2021-03-31    0.050832\n",
              "Name: Close, Length: 251, dtype: float64"
            ]
          },
          "execution_count": 96,
          "metadata": {
            "tags": []
          },
          "output_type": "execute_result"
        }
      ],
      "source": [
        "return_tsla"
      ]
    },
    {
      "cell_type": "code",
      "execution_count": null,
      "metadata": {
        "id": "A2kxaEfxg31h"
      },
      "outputs": [],
      "source": [
        "import numpy as np  \n",
        "import matplotlib.pyplot as plt  \n",
        "import datetime"
      ]
    },
    {
      "cell_type": "code",
      "execution_count": null,
      "metadata": {
        "id": "80suKJQtgniu"
      },
      "outputs": [],
      "source": [
        "log_return_spy=np.log(df0['Close']/df0['Close'].shift(1))\n",
        "log_return_tsla=np.log(df1['Close']/df1['Close'].shift(1))\n",
        "log_return_ba=np.log(df2['Close']/df2['Close'].shift(1))\n",
        "log_return_nls=np.log(df3['Close']/df3['Close'].shift(1))\n",
        "log_return_dis=np.log(df4['Close']/df4['Close'].shift(1))\n",
        "log_return_lulu=np.log(df5['Close']/df4['Close'].shift(1))"
      ]
    },
    {
      "cell_type": "code",
      "execution_count": null,
      "metadata": {
        "colab": {
          "base_uri": "https://localhost:8080/"
        },
        "id": "j0jyWr3JhANG",
        "outputId": "53ea26b3-599c-4b31-b872-83423e6f170f"
      },
      "outputs": [
        {
          "data": {
            "text/plain": [
              "Date\n",
              "2020-04-01         NaN\n",
              "2020-04-02   -0.057899\n",
              "2020-04-03    0.054675\n",
              "2020-04-06    0.072765\n",
              "2020-04-07    0.055039\n",
              "                ...   \n",
              "2021-03-25    0.015929\n",
              "2021-03-26   -0.034441\n",
              "2021-03-29   -0.012065\n",
              "2021-03-30    0.039029\n",
              "2021-03-31    0.049582\n",
              "Name: Close, Length: 252, dtype: float64"
            ]
          },
          "execution_count": 99,
          "metadata": {
            "tags": []
          },
          "output_type": "execute_result"
        }
      ],
      "source": [
        "log_return_tsla"
      ]
    },
    {
      "cell_type": "code",
      "execution_count": null,
      "metadata": {
        "colab": {
          "base_uri": "https://localhost:8080/",
          "height": 490
        },
        "id": "9S7B6bx2hDNQ",
        "outputId": "07a47c3c-28b7-469a-e9d2-f18d66af38eb"
      },
      "outputs": [
        {
          "data": {
            "text/plain": [
              "<function matplotlib.pyplot.show>"
            ]
          },
          "execution_count": 100,
          "metadata": {
            "tags": []
          },
          "output_type": "execute_result"
        },
        {
          "data": {
            "image/png": "[encoded data removed]",
            "text/plain": [
              "<Figure size 1080x576 with 1 Axes>"
            ]
          },
          "metadata": {
            "tags": []
          },
          "output_type": "display_data"
        }
      ],
      "source": [
        "plt.figure(figsize=(15, 8))\n",
        "\n",
        "return_ba.plot(label='BA')\n",
        "return_tsla.plot(label='TSLA')\n",
        "plt.ylabel(\"Daily return\")\n",
        "plt.legend(loc='best')\n",
        "plt.show"
      ]
    },
    {
      "cell_type": "code",
      "execution_count": null,
      "metadata": {
        "colab": {
          "base_uri": "https://localhost:8080/",
          "height": 491
        },
        "id": "wpvAO991l6Za",
        "outputId": "9f6b3db4-9604-4423-83c2-b1833224d8a1"
      },
      "outputs": [
        {
          "data": {
            "text/plain": [
              "<function matplotlib.pyplot.show>"
            ]
          },
          "execution_count": 101,
          "metadata": {
            "tags": []
          },
          "output_type": "execute_result"
        },
        {
          "data": {
            "image/png": "[encoded data removed]",
            "text/plain": [
              "<Figure size 1080x576 with 1 Axes>"
            ]
          },
          "metadata": {
            "tags": []
          },
          "output_type": "display_data"
        }
      ],
      "source": [
        "plt.figure(figsize=(15, 8))\n",
        "\n",
        "return_nls.plot(label='NLS')\n",
        "return_dis.plot(label='DIS')\n",
        "return_lulu.plot(label='LULU')\n",
        "plt.ylabel(\"Daily return\")\n",
        "plt.legend(loc='best')\n",
        "plt.show"
      ]
    },
    {
      "cell_type": "code",
      "execution_count": null,
      "metadata": {
        "id": "XfKE2hAIhwkG"
      },
      "outputs": [],
      "source": [
        ""
      ]
    },
    {
      "cell_type": "code",
      "execution_count": null,
      "metadata": {
        "colab": {
          "base_uri": "https://localhost:8080/"
        },
        "id": "ujZFxxWsiH4L",
        "outputId": "917479d0-1a1b-41ca-e300-66cedc47f222"
      },
      "outputs": [
        {
          "name": "stderr",
          "output_type": "stream",
          "text": [
            "/usr/local/lib/python3.7/dist-packages/statsmodels/tools/_testing.py:19: FutureWarning: pandas.util.testing is deprecated. Use the functions in the public API at pandas.testing instead.\n",
            "  import pandas.util.testing as tm\n"
          ]
        }
      ],
      "source": [
        "import  statsmodels.api  as  sm\n",
        "from  statsmodels.iolib.summary2  import  summary_col"
      ]
    },
    {
      "cell_type": "code",
      "execution_count": null,
      "metadata": {
        "id": "8PLrrXjTiIJM"
      },
      "outputs": [],
      "source": [
        "y1=return_tsla.values\n",
        "x=return_spy.values"
      ]
    },
    {
      "cell_type": "markdown",
      "metadata": {
        "id": "Hw7x4S9usHWb"
      },
      "source": [
        "y=beta0+beta1*x+error"
      ]
    },
    {
      "cell_type": "code",
      "execution_count": null,
      "metadata": {
        "id": "XFb0aXDuif6j"
      },
      "outputs": [],
      "source": [
        "X=sm.add_constant(x)"
      ]
    },
    {
      "cell_type": "code",
      "execution_count": null,
      "metadata": {
        "colab": {
          "base_uri": "https://localhost:8080/"
        },
        "id": "dr1mYv4Bii5F",
        "outputId": "a7362dfd-c2b2-4c6d-eb34-65ca8117980a"
      },
      "outputs": [
        {
          "name": "stdout",
          "output_type": "stream",
          "text": [
            "                            OLS Regression Results                            \n",
            "==============================================================================\n",
            "Dep. Variable:                      y   R-squared:                       0.198\n",
            "Model:                            OLS   Adj. R-squared:                  0.195\n",
            "Method:                 Least Squares   F-statistic:                     46.07\n",
            "Date:                Wed, 19 May 2021   Prob (F-statistic):           8.31e-11\n",
            "Time:                        19:09:22   Log-Likelihood:                 432.81\n",
            "No. Observations:                 251   AIC:                            -861.6\n",
            "Df Residuals:                     249   BIC:                            -854.6\n",
            "Df Model:                           1                                         \n",
            "Covariance Type:                  HC1                                         \n",
            "==============================================================================\n",
            "                 coef    std err          z      P>|z|      [0.025      0.975]\n",
            "------------------------------------------------------------------------------\n",
            "const          0.0056      0.003      1.988      0.047    8.02e-05       0.011\n",
            "x1             1.6684      0.246      6.787      0.000       1.187       2.150\n",
            "==============================================================================\n",
            "Omnibus:                       22.405   Durbin-Watson:                   2.101\n",
            "Prob(Omnibus):                  0.000   Jarque-Bera (JB):               41.500\n",
            "Skew:                           0.487   Prob(JB):                     9.74e-10\n",
            "Kurtosis:                       4.738   Cond. No.                         77.8\n",
            "==============================================================================\n",
            "\n",
            "Warnings:\n",
            "[1] Standard Errors are heteroscedasticity robust (HC1)\n"
          ]
        }
      ],
      "source": [
        "model=sm.OLS(y1,X)\n",
        "result=model.fit(cov_type='HC1')\n",
        "print(result.summary())"
      ]
    },
    {
      "cell_type": "code",
      "execution_count": null,
      "metadata": {
        "colab": {
          "base_uri": "https://localhost:8080/"
        },
        "id": "6ZL_Eb9Y3ZwR",
        "outputId": "fd9242d9-7b08-4f04-e056-4e977b7e727e"
      },
      "outputs": [
        {
          "data": {
            "text/plain": [
              "1.6683635885734098"
            ]
          },
          "execution_count": 105,
          "metadata": {
            "tags": []
          },
          "output_type": "execute_result"
        }
      ],
      "source": [
        "beta_tsla=result.params[1]\n",
        "beta_tsla"
      ]
    },
    {
      "cell_type": "code",
      "execution_count": null,
      "metadata": {
        "id": "C8ZFTqp_sZek"
      },
      "outputs": [],
      "source": [
        "y2=return_ba.values"
      ]
    },
    {
      "cell_type": "code",
      "execution_count": null,
      "metadata": {
        "colab": {
          "base_uri": "https://localhost:8080/"
        },
        "id": "0hB3TwMRizWS",
        "outputId": "101881c2-659a-4036-c5f7-64fdd500b4be"
      },
      "outputs": [
        {
          "name": "stdout",
          "output_type": "stream",
          "text": [
            "                            OLS Regression Results                            \n",
            "==============================================================================\n",
            "Dep. Variable:                      y   R-squared:                       0.350\n",
            "Model:                            OLS   Adj. R-squared:                  0.347\n",
            "Method:                 Least Squares   F-statistic:                     76.35\n",
            "Date:                Wed, 19 May 2021   Prob (F-statistic):           3.56e-16\n",
            "Time:                        19:09:28   Log-Likelihood:                 496.77\n",
            "No. Observations:                 251   AIC:                            -989.5\n",
            "Df Residuals:                     249   BIC:                            -982.5\n",
            "Df Model:                           1                                         \n",
            "Covariance Type:                  HC1                                         \n",
            "==============================================================================\n",
            "                 coef    std err          z      P>|z|      [0.025      0.975]\n",
            "------------------------------------------------------------------------------\n",
            "const         -0.0003      0.002     -0.141      0.888      -0.004       0.004\n",
            "x1             1.9065      0.218      8.738      0.000       1.479       2.334\n",
            "==============================================================================\n",
            "Omnibus:                       22.812   Durbin-Watson:                   2.151\n",
            "Prob(Omnibus):                  0.000   Jarque-Bera (JB):               41.956\n",
            "Skew:                           0.498   Prob(JB):                     7.75e-10\n",
            "Kurtosis:                       4.737   Cond. No.                         77.8\n",
            "==============================================================================\n",
            "\n",
            "Warnings:\n",
            "[1] Standard Errors are heteroscedasticity robust (HC1)\n"
          ]
        }
      ],
      "source": [
        "model2=sm.OLS(y2,X)\n",
        "result2=model2.fit(cov_type='HC1')\n",
        "print(result2.summary())"
      ]
    },
    {
      "cell_type": "code",
      "execution_count": null,
      "metadata": {
        "colab": {
          "base_uri": "https://localhost:8080/"
        },
        "id": "4GiKMr1z3y3H",
        "outputId": "292199d4-45c5-49f9-8eb2-2d6b939aeb31"
      },
      "outputs": [
        {
          "data": {
            "text/plain": [
              "1.906490864640088"
            ]
          },
          "execution_count": 108,
          "metadata": {
            "tags": []
          },
          "output_type": "execute_result"
        }
      ],
      "source": [
        "beta_ba=result2.params[1]\n",
        "beta_ba"
      ]
    },
    {
      "cell_type": "code",
      "execution_count": null,
      "metadata": {
        "id": "Epc6HfdksxC9"
      },
      "outputs": [],
      "source": [
        "y3=return_nls.values"
      ]
    },
    {
      "cell_type": "code",
      "execution_count": null,
      "metadata": {
        "colab": {
          "base_uri": "https://localhost:8080/"
        },
        "id": "QCl5GKxzsxIz",
        "outputId": "fd75ef5d-c1c4-4141-c639-e14b82c93bf0"
      },
      "outputs": [
        {
          "name": "stdout",
          "output_type": "stream",
          "text": [
            "                            OLS Regression Results                            \n",
            "==============================================================================\n",
            "Dep. Variable:                      y   R-squared:                       0.026\n",
            "Model:                            OLS   Adj. R-squared:                  0.022\n",
            "Method:                 Least Squares   F-statistic:                     5.658\n",
            "Date:                Wed, 19 May 2021   Prob (F-statistic):             0.0181\n",
            "Time:                        19:09:34   Log-Likelihood:                 311.57\n",
            "No. Observations:                 251   AIC:                            -619.1\n",
            "Df Residuals:                     249   BIC:                            -612.1\n",
            "Df Model:                           1                                         \n",
            "Covariance Type:                  HC1                                         \n",
            "==============================================================================\n",
            "                 coef    std err          z      P>|z|      [0.025      0.975]\n",
            "------------------------------------------------------------------------------\n",
            "const          0.0076      0.004      1.746      0.081      -0.001       0.016\n",
            "x1             0.8864      0.373      2.379      0.017       0.156       1.617\n",
            "==============================================================================\n",
            "Omnibus:                      150.737   Durbin-Watson:                   1.611\n",
            "Prob(Omnibus):                  0.000   Jarque-Bera (JB):             2665.062\n",
            "Skew:                           1.980   Prob(JB):                         0.00\n",
            "Kurtosis:                      18.464   Cond. No.                         77.8\n",
            "==============================================================================\n",
            "\n",
            "Warnings:\n",
            "[1] Standard Errors are heteroscedasticity robust (HC1)\n"
          ]
        }
      ],
      "source": [
        "model3=sm.OLS(y3,X)\n",
        "result3=model3.fit(cov_type='HC1')\n",
        "print(result3.summary())"
      ]
    },
    {
      "cell_type": "code",
      "execution_count": null,
      "metadata": {
        "colab": {
          "base_uri": "https://localhost:8080/"
        },
        "id": "I3Kg9gpb38kk",
        "outputId": "9b30adbf-1984-498b-b13f-6dd30c3e31f5"
      },
      "outputs": [
        {
          "data": {
            "text/plain": [
              "0.8864260088915786"
            ]
          },
          "execution_count": 111,
          "metadata": {
            "tags": []
          },
          "output_type": "execute_result"
        }
      ],
      "source": [
        "beta_dis=result3.params[1]\n",
        "beta_dis"
      ]
    },
    {
      "cell_type": "code",
      "execution_count": null,
      "metadata": {
        "id": "ZdS146wBtua1"
      },
      "outputs": [],
      "source": [
        "y4=return_lulu.values"
      ]
    },
    {
      "cell_type": "code",
      "execution_count": null,
      "metadata": {
        "colab": {
          "base_uri": "https://localhost:8080/"
        },
        "id": "Il-pzB4Dac1e",
        "outputId": "1b051899-4f7c-4438-efce-46df192a41bf"
      },
      "outputs": [
        {
          "name": "stdout",
          "output_type": "stream",
          "text": [
            "                            OLS Regression Results                            \n",
            "==============================================================================\n",
            "Dep. Variable:                      y   R-squared:                       0.332\n",
            "Model:                            OLS   Adj. R-squared:                  0.329\n",
            "Method:                 Least Squares   F-statistic:                     138.6\n",
            "Date:                Wed, 19 May 2021   Prob (F-statistic):           9.90e-26\n",
            "Time:                        19:09:39   Log-Likelihood:                 630.37\n",
            "No. Observations:                 251   AIC:                            -1257.\n",
            "Df Residuals:                     249   BIC:                            -1250.\n",
            "Df Model:                           1                                         \n",
            "Covariance Type:                  HC1                                         \n",
            "==============================================================================\n",
            "                 coef    std err          z      P>|z|      [0.025      0.975]\n",
            "------------------------------------------------------------------------------\n",
            "const          0.0008      0.001      0.653      0.514      -0.002       0.003\n",
            "x1             1.0757      0.091     11.773      0.000       0.897       1.255\n",
            "==============================================================================\n",
            "Omnibus:                      163.969   Durbin-Watson:                   2.260\n",
            "Prob(Omnibus):                  0.000   Jarque-Bera (JB):             1897.295\n",
            "Skew:                           2.420   Prob(JB):                         0.00\n",
            "Kurtosis:                      15.569   Cond. No.                         77.8\n",
            "==============================================================================\n",
            "\n",
            "Warnings:\n",
            "[1] Standard Errors are heteroscedasticity robust (HC1)\n"
          ]
        }
      ],
      "source": [
        "model4=sm.OLS(y4,X)\n",
        "result4=model4.fit(cov_type='HC1')\n",
        "print(result4.summary())"
      ]
    },
    {
      "cell_type": "code",
      "execution_count": null,
      "metadata": {
        "colab": {
          "base_uri": "https://localhost:8080/"
        },
        "id": "UmG1qdHyac_3",
        "outputId": "8b760ec0-6a2e-4579-cc53-b0f768d63af8"
      },
      "outputs": [
        {
          "data": {
            "text/plain": [
              "1.0757453823813405"
            ]
          },
          "execution_count": 114,
          "metadata": {
            "tags": []
          },
          "output_type": "execute_result"
        }
      ],
      "source": [
        "beta_lulu=result4.params[1]\n",
        "beta_lulu"
      ]
    },
    {
      "cell_type": "code",
      "execution_count": null,
      "metadata": {
        "id": "Uxb8YOT3oC0h"
      },
      "outputs": [],
      "source": [
        "y5=return_nls.values"
      ]
    },
    {
      "cell_type": "code",
      "execution_count": null,
      "metadata": {
        "colab": {
          "base_uri": "https://localhost:8080/"
        },
        "id": "ondjW9q_oJ-X",
        "outputId": "6419fc4e-53ee-4d5d-b02f-ce17e254bc53"
      },
      "outputs": [
        {
          "name": "stdout",
          "output_type": "stream",
          "text": [
            "                            OLS Regression Results                            \n",
            "==============================================================================\n",
            "Dep. Variable:                      y   R-squared:                       0.332\n",
            "Model:                            OLS   Adj. R-squared:                  0.329\n",
            "Method:                 Least Squares   F-statistic:                     138.6\n",
            "Date:                Wed, 19 May 2021   Prob (F-statistic):           9.90e-26\n",
            "Time:                        19:09:45   Log-Likelihood:                 630.37\n",
            "No. Observations:                 251   AIC:                            -1257.\n",
            "Df Residuals:                     249   BIC:                            -1250.\n",
            "Df Model:                           1                                         \n",
            "Covariance Type:                  HC1                                         \n",
            "==============================================================================\n",
            "                 coef    std err          z      P>|z|      [0.025      0.975]\n",
            "------------------------------------------------------------------------------\n",
            "const          0.0008      0.001      0.653      0.514      -0.002       0.003\n",
            "x1             1.0757      0.091     11.773      0.000       0.897       1.255\n",
            "==============================================================================\n",
            "Omnibus:                      163.969   Durbin-Watson:                   2.260\n",
            "Prob(Omnibus):                  0.000   Jarque-Bera (JB):             1897.295\n",
            "Skew:                           2.420   Prob(JB):                         0.00\n",
            "Kurtosis:                      15.569   Cond. No.                         77.8\n",
            "==============================================================================\n",
            "\n",
            "Warnings:\n",
            "[1] Standard Errors are heteroscedasticity robust (HC1)\n"
          ]
        }
      ],
      "source": [
        "model4=sm.OLS(y4,X)\n",
        "result4=model4.fit(cov_type='HC1')\n",
        "print(result4.summary())"
      ]
    },
    {
      "cell_type": "code",
      "execution_count": null,
      "metadata": {
        "colab": {
          "base_uri": "https://localhost:8080/"
        },
        "id": "-20I5LfwoJ1o",
        "outputId": "ec5b769c-47ff-417b-ab6e-1ac2d50e0262"
      },
      "outputs": [
        {
          "data": {
            "text/plain": [
              "1.0757453823813405"
            ]
          },
          "execution_count": 117,
          "metadata": {
            "tags": []
          },
          "output_type": "execute_result"
        }
      ],
      "source": [
        "beta_nls=result4.params[1]\n",
        "beta_nls"
      ]
    },
    {
      "cell_type": "code",
      "execution_count": null,
      "metadata": {
        "id": "bxXOODXeadF7"
      },
      "outputs": [],
      "source": [
        ""
      ]
    },
    {
      "cell_type": "code",
      "execution_count": null,
      "metadata": {
        "id": "uVl1gRfNtuf7"
      },
      "outputs": [],
      "source": [
        "portfolio=pd.concat([df1.Close,df2.Close,df3.Close,df4.Close,df5.Close], axis=1, sort=False)"
      ]
    },
    {
      "cell_type": "code",
      "execution_count": null,
      "metadata": {
        "colab": {
          "base_uri": "https://localhost:8080/",
          "height": 450
        },
        "id": "MitoTVnNt8uW",
        "outputId": "d44d8835-e1b5-4296-9d5a-9fb682168657"
      },
      "outputs": [
        {
          "data": {
            "text/html": [
              "<div>\n",
              "<style scoped>\n",
              "    .dataframe tbody tr th:only-of-type {\n",
              "        vertical-align: middle;\n",
              "    }\n",
              "\n",
              "    .dataframe tbody tr th {\n",
              "        vertical-align: top;\n",
              "    }\n",
              "\n",
              "    .dataframe thead th {\n",
              "        text-align: right;\n",
              "    }\n",
              "</style>\n",
              "<table border=\"1\" class=\"dataframe\">\n",
              "  <thead>\n",
              "    <tr style=\"text-align: right;\">\n",
              "      <th></th>\n",
              "      <th>Close</th>\n",
              "      <th>Close</th>\n",
              "      <th>Close</th>\n",
              "      <th>Close</th>\n",
              "      <th>Close</th>\n",
              "    </tr>\n",
              "    <tr>\n",
              "      <th>Date</th>\n",
              "      <th></th>\n",
              "      <th></th>\n",
              "      <th></th>\n",
              "      <th></th>\n",
              "      <th></th>\n",
              "    </tr>\n",
              "  </thead>\n",
              "  <tbody>\n",
              "    <tr>\n",
              "      <th>2020-04-01</th>\n",
              "      <td>96.311996</td>\n",
              "      <td>130.699997</td>\n",
              "      <td>2.71</td>\n",
              "      <td>94.919998</td>\n",
              "      <td>183.500000</td>\n",
              "    </tr>\n",
              "    <tr>\n",
              "      <th>2020-04-02</th>\n",
              "      <td>90.893997</td>\n",
              "      <td>123.269997</td>\n",
              "      <td>2.46</td>\n",
              "      <td>96.970001</td>\n",
              "      <td>185.490005</td>\n",
              "    </tr>\n",
              "    <tr>\n",
              "      <th>2020-04-03</th>\n",
              "      <td>96.001999</td>\n",
              "      <td>124.519997</td>\n",
              "      <td>2.48</td>\n",
              "      <td>93.879997</td>\n",
              "      <td>181.250000</td>\n",
              "    </tr>\n",
              "    <tr>\n",
              "      <th>2020-04-06</th>\n",
              "      <td>103.248001</td>\n",
              "      <td>148.770004</td>\n",
              "      <td>2.41</td>\n",
              "      <td>99.580002</td>\n",
              "      <td>194.949997</td>\n",
              "    </tr>\n",
              "    <tr>\n",
              "      <th>2020-04-07</th>\n",
              "      <td>109.089996</td>\n",
              "      <td>141.580002</td>\n",
              "      <td>2.22</td>\n",
              "      <td>101.239998</td>\n",
              "      <td>194.919998</td>\n",
              "    </tr>\n",
              "    <tr>\n",
              "      <th>...</th>\n",
              "      <td>...</td>\n",
              "      <td>...</td>\n",
              "      <td>...</td>\n",
              "      <td>...</td>\n",
              "      <td>...</td>\n",
              "    </tr>\n",
              "    <tr>\n",
              "      <th>2021-03-25</th>\n",
              "      <td>640.390015</td>\n",
              "      <td>247.190002</td>\n",
              "      <td>15.49</td>\n",
              "      <td>186.910004</td>\n",
              "      <td>306.209991</td>\n",
              "    </tr>\n",
              "    <tr>\n",
              "      <th>2021-03-26</th>\n",
              "      <td>618.710022</td>\n",
              "      <td>244.869995</td>\n",
              "      <td>15.13</td>\n",
              "      <td>185.919998</td>\n",
              "      <td>314.000000</td>\n",
              "    </tr>\n",
              "    <tr>\n",
              "      <th>2021-03-29</th>\n",
              "      <td>611.289978</td>\n",
              "      <td>250.520004</td>\n",
              "      <td>14.77</td>\n",
              "      <td>184.850006</td>\n",
              "      <td>316.160004</td>\n",
              "    </tr>\n",
              "    <tr>\n",
              "      <th>2021-03-30</th>\n",
              "      <td>635.619995</td>\n",
              "      <td>252.009995</td>\n",
              "      <td>15.24</td>\n",
              "      <td>185.529999</td>\n",
              "      <td>317.089996</td>\n",
              "    </tr>\n",
              "    <tr>\n",
              "      <th>2021-03-31</th>\n",
              "      <td>667.929993</td>\n",
              "      <td>254.720001</td>\n",
              "      <td>15.64</td>\n",
              "      <td>184.520004</td>\n",
              "      <td>306.709991</td>\n",
              "    </tr>\n",
              "  </tbody>\n",
              "</table>\n",
              "<p>252 rows × 5 columns</p>\n",
              "</div>"
            ],
            "text/plain": [
              "                 Close       Close  Close       Close       Close\n",
              "Date                                                             \n",
              "2020-04-01   96.311996  130.699997   2.71   94.919998  183.500000\n",
              "2020-04-02   90.893997  123.269997   2.46   96.970001  185.490005\n",
              "2020-04-03   96.001999  124.519997   2.48   93.879997  181.250000\n",
              "2020-04-06  103.248001  148.770004   2.41   99.580002  194.949997\n",
              "2020-04-07  109.089996  141.580002   2.22  101.239998  194.919998\n",
              "...                ...         ...    ...         ...         ...\n",
              "2021-03-25  640.390015  247.190002  15.49  186.910004  306.209991\n",
              "2021-03-26  618.710022  244.869995  15.13  185.919998  314.000000\n",
              "2021-03-29  611.289978  250.520004  14.77  184.850006  316.160004\n",
              "2021-03-30  635.619995  252.009995  15.24  185.529999  317.089996\n",
              "2021-03-31  667.929993  254.720001  15.64  184.520004  306.709991\n",
              "\n",
              "[252 rows x 5 columns]"
            ]
          },
          "execution_count": 119,
          "metadata": {
            "tags": []
          },
          "output_type": "execute_result"
        }
      ],
      "source": [
        "portfolio"
      ]
    },
    {
      "cell_type": "code",
      "execution_count": null,
      "metadata": {
        "id": "DV79O1vvuBlp"
      },
      "outputs": [],
      "source": [
        "portfolio=portfolio.set_axis(['Tesla','Boeing','Nautilus','Disney','Lululemon'], axis=1, inplace=False)"
      ]
    },
    {
      "cell_type": "code",
      "execution_count": null,
      "metadata": {
        "colab": {
          "base_uri": "https://localhost:8080/",
          "height": 450
        },
        "id": "vNxSuvuSuM-a",
        "outputId": "c0532b51-a76b-46b6-d361-5750dffdc8cf"
      },
      "outputs": [
        {
          "data": {
            "text/html": [
              "<div>\n",
              "<style scoped>\n",
              "    .dataframe tbody tr th:only-of-type {\n",
              "        vertical-align: middle;\n",
              "    }\n",
              "\n",
              "    .dataframe tbody tr th {\n",
              "        vertical-align: top;\n",
              "    }\n",
              "\n",
              "    .dataframe thead th {\n",
              "        text-align: right;\n",
              "    }\n",
              "</style>\n",
              "<table border=\"1\" class=\"dataframe\">\n",
              "  <thead>\n",
              "    <tr style=\"text-align: right;\">\n",
              "      <th></th>\n",
              "      <th>Tesla</th>\n",
              "      <th>Boeing</th>\n",
              "      <th>Nautilus</th>\n",
              "      <th>Disney</th>\n",
              "      <th>Lululemon</th>\n",
              "    </tr>\n",
              "    <tr>\n",
              "      <th>Date</th>\n",
              "      <th></th>\n",
              "      <th></th>\n",
              "      <th></th>\n",
              "      <th></th>\n",
              "      <th></th>\n",
              "    </tr>\n",
              "  </thead>\n",
              "  <tbody>\n",
              "    <tr>\n",
              "      <th>2020-04-01</th>\n",
              "      <td>96.311996</td>\n",
              "      <td>130.699997</td>\n",
              "      <td>2.71</td>\n",
              "      <td>94.919998</td>\n",
              "      <td>183.500000</td>\n",
              "    </tr>\n",
              "    <tr>\n",
              "      <th>2020-04-02</th>\n",
              "      <td>90.893997</td>\n",
              "      <td>123.269997</td>\n",
              "      <td>2.46</td>\n",
              "      <td>96.970001</td>\n",
              "      <td>185.490005</td>\n",
              "    </tr>\n",
              "    <tr>\n",
              "      <th>2020-04-03</th>\n",
              "      <td>96.001999</td>\n",
              "      <td>124.519997</td>\n",
              "      <td>2.48</td>\n",
              "      <td>93.879997</td>\n",
              "      <td>181.250000</td>\n",
              "    </tr>\n",
              "    <tr>\n",
              "      <th>2020-04-06</th>\n",
              "      <td>103.248001</td>\n",
              "      <td>148.770004</td>\n",
              "      <td>2.41</td>\n",
              "      <td>99.580002</td>\n",
              "      <td>194.949997</td>\n",
              "    </tr>\n",
              "    <tr>\n",
              "      <th>2020-04-07</th>\n",
              "      <td>109.089996</td>\n",
              "      <td>141.580002</td>\n",
              "      <td>2.22</td>\n",
              "      <td>101.239998</td>\n",
              "      <td>194.919998</td>\n",
              "    </tr>\n",
              "    <tr>\n",
              "      <th>...</th>\n",
              "      <td>...</td>\n",
              "      <td>...</td>\n",
              "      <td>...</td>\n",
              "      <td>...</td>\n",
              "      <td>...</td>\n",
              "    </tr>\n",
              "    <tr>\n",
              "      <th>2021-03-25</th>\n",
              "      <td>640.390015</td>\n",
              "      <td>247.190002</td>\n",
              "      <td>15.49</td>\n",
              "      <td>186.910004</td>\n",
              "      <td>306.209991</td>\n",
              "    </tr>\n",
              "    <tr>\n",
              "      <th>2021-03-26</th>\n",
              "      <td>618.710022</td>\n",
              "      <td>244.869995</td>\n",
              "      <td>15.13</td>\n",
              "      <td>185.919998</td>\n",
              "      <td>314.000000</td>\n",
              "    </tr>\n",
              "    <tr>\n",
              "      <th>2021-03-29</th>\n",
              "      <td>611.289978</td>\n",
              "      <td>250.520004</td>\n",
              "      <td>14.77</td>\n",
              "      <td>184.850006</td>\n",
              "      <td>316.160004</td>\n",
              "    </tr>\n",
              "    <tr>\n",
              "      <th>2021-03-30</th>\n",
              "      <td>635.619995</td>\n",
              "      <td>252.009995</td>\n",
              "      <td>15.24</td>\n",
              "      <td>185.529999</td>\n",
              "      <td>317.089996</td>\n",
              "    </tr>\n",
              "    <tr>\n",
              "      <th>2021-03-31</th>\n",
              "      <td>667.929993</td>\n",
              "      <td>254.720001</td>\n",
              "      <td>15.64</td>\n",
              "      <td>184.520004</td>\n",
              "      <td>306.709991</td>\n",
              "    </tr>\n",
              "  </tbody>\n",
              "</table>\n",
              "<p>252 rows × 5 columns</p>\n",
              "</div>"
            ],
            "text/plain": [
              "                 Tesla      Boeing  Nautilus      Disney   Lululemon\n",
              "Date                                                                \n",
              "2020-04-01   96.311996  130.699997      2.71   94.919998  183.500000\n",
              "2020-04-02   90.893997  123.269997      2.46   96.970001  185.490005\n",
              "2020-04-03   96.001999  124.519997      2.48   93.879997  181.250000\n",
              "2020-04-06  103.248001  148.770004      2.41   99.580002  194.949997\n",
              "2020-04-07  109.089996  141.580002      2.22  101.239998  194.919998\n",
              "...                ...         ...       ...         ...         ...\n",
              "2021-03-25  640.390015  247.190002     15.49  186.910004  306.209991\n",
              "2021-03-26  618.710022  244.869995     15.13  185.919998  314.000000\n",
              "2021-03-29  611.289978  250.520004     14.77  184.850006  316.160004\n",
              "2021-03-30  635.619995  252.009995     15.24  185.529999  317.089996\n",
              "2021-03-31  667.929993  254.720001     15.64  184.520004  306.709991\n",
              "\n",
              "[252 rows x 5 columns]"
            ]
          },
          "execution_count": 121,
          "metadata": {
            "tags": []
          },
          "output_type": "execute_result"
        }
      ],
      "source": [
        "portfolio"
      ]
    },
    {
      "cell_type": "code",
      "execution_count": null,
      "metadata": {
        "id": "2hVhASIDveVD"
      },
      "outputs": [],
      "source": [
        ""
      ]
    },
    {
      "cell_type": "code",
      "execution_count": null,
      "metadata": {
        "id": "WK2Hzm27vNCr"
      },
      "outputs": [],
      "source": [
        "log_return=np.log(portfolio/portfolio.shift(1))"
      ]
    },
    {
      "cell_type": "code",
      "execution_count": null,
      "metadata": {
        "id": "9mlYSVRVa_t2"
      },
      "outputs": [],
      "source": [
        "log_return=log_return.set_axis(['Return of Tesla','Return of Boeing','Return of Nautilus','Return of Disney','Return of Lululemon'], axis=1, inplace=False)"
      ]
    },
    {
      "cell_type": "code",
      "execution_count": null,
      "metadata": {
        "colab": {
          "base_uri": "https://localhost:8080/",
          "height": 450
        },
        "id": "Nj62Z9QyvYsi",
        "outputId": "c2743e8a-d181-4f19-e16f-fe88c62f47a5"
      },
      "outputs": [
        {
          "data": {
            "text/html": [
              "<div>\n",
              "<style scoped>\n",
              "    .dataframe tbody tr th:only-of-type {\n",
              "        vertical-align: middle;\n",
              "    }\n",
              "\n",
              "    .dataframe tbody tr th {\n",
              "        vertical-align: top;\n",
              "    }\n",
              "\n",
              "    .dataframe thead th {\n",
              "        text-align: right;\n",
              "    }\n",
              "</style>\n",
              "<table border=\"1\" class=\"dataframe\">\n",
              "  <thead>\n",
              "    <tr style=\"text-align: right;\">\n",
              "      <th></th>\n",
              "      <th>Return of Tesla</th>\n",
              "      <th>Return of Boeing</th>\n",
              "      <th>Return of Nautilus</th>\n",
              "      <th>Return of Disney</th>\n",
              "      <th>Return of Lululemon</th>\n",
              "    </tr>\n",
              "    <tr>\n",
              "      <th>Date</th>\n",
              "      <th></th>\n",
              "      <th></th>\n",
              "      <th></th>\n",
              "      <th></th>\n",
              "      <th></th>\n",
              "    </tr>\n",
              "  </thead>\n",
              "  <tbody>\n",
              "    <tr>\n",
              "      <th>2020-04-01</th>\n",
              "      <td>NaN</td>\n",
              "      <td>NaN</td>\n",
              "      <td>NaN</td>\n",
              "      <td>NaN</td>\n",
              "      <td>NaN</td>\n",
              "    </tr>\n",
              "    <tr>\n",
              "      <th>2020-04-02</th>\n",
              "      <td>-0.057899</td>\n",
              "      <td>-0.058528</td>\n",
              "      <td>-0.096787</td>\n",
              "      <td>0.021367</td>\n",
              "      <td>0.010786</td>\n",
              "    </tr>\n",
              "    <tr>\n",
              "      <th>2020-04-03</th>\n",
              "      <td>0.054675</td>\n",
              "      <td>0.010089</td>\n",
              "      <td>0.008097</td>\n",
              "      <td>-0.032384</td>\n",
              "      <td>-0.023124</td>\n",
              "    </tr>\n",
              "    <tr>\n",
              "      <th>2020-04-06</th>\n",
              "      <td>0.072765</td>\n",
              "      <td>0.177935</td>\n",
              "      <td>-0.028632</td>\n",
              "      <td>0.058944</td>\n",
              "      <td>0.072866</td>\n",
              "    </tr>\n",
              "    <tr>\n",
              "      <th>2020-04-07</th>\n",
              "      <td>0.055039</td>\n",
              "      <td>-0.049537</td>\n",
              "      <td>-0.082120</td>\n",
              "      <td>0.016533</td>\n",
              "      <td>-0.000154</td>\n",
              "    </tr>\n",
              "    <tr>\n",
              "      <th>...</th>\n",
              "      <td>...</td>\n",
              "      <td>...</td>\n",
              "      <td>...</td>\n",
              "      <td>...</td>\n",
              "      <td>...</td>\n",
              "    </tr>\n",
              "    <tr>\n",
              "      <th>2021-03-25</th>\n",
              "      <td>0.015929</td>\n",
              "      <td>0.032690</td>\n",
              "      <td>0.016927</td>\n",
              "      <td>0.011786</td>\n",
              "      <td>-0.003586</td>\n",
              "    </tr>\n",
              "    <tr>\n",
              "      <th>2021-03-26</th>\n",
              "      <td>-0.034441</td>\n",
              "      <td>-0.009430</td>\n",
              "      <td>-0.023515</td>\n",
              "      <td>-0.005311</td>\n",
              "      <td>0.025122</td>\n",
              "    </tr>\n",
              "    <tr>\n",
              "      <th>2021-03-29</th>\n",
              "      <td>-0.012065</td>\n",
              "      <td>0.022811</td>\n",
              "      <td>-0.024081</td>\n",
              "      <td>-0.005772</td>\n",
              "      <td>0.006855</td>\n",
              "    </tr>\n",
              "    <tr>\n",
              "      <th>2021-03-30</th>\n",
              "      <td>0.039029</td>\n",
              "      <td>0.005930</td>\n",
              "      <td>0.031325</td>\n",
              "      <td>0.003672</td>\n",
              "      <td>0.002937</td>\n",
              "    </tr>\n",
              "    <tr>\n",
              "      <th>2021-03-31</th>\n",
              "      <td>0.049582</td>\n",
              "      <td>0.010696</td>\n",
              "      <td>0.025908</td>\n",
              "      <td>-0.005459</td>\n",
              "      <td>-0.033283</td>\n",
              "    </tr>\n",
              "  </tbody>\n",
              "</table>\n",
              "<p>252 rows × 5 columns</p>\n",
              "</div>"
            ],
            "text/plain": [
              "            Return of Tesla  ...  Return of Lululemon\n",
              "Date                         ...                     \n",
              "2020-04-01              NaN  ...                  NaN\n",
              "2020-04-02        -0.057899  ...             0.010786\n",
              "2020-04-03         0.054675  ...            -0.023124\n",
              "2020-04-06         0.072765  ...             0.072866\n",
              "2020-04-07         0.055039  ...            -0.000154\n",
              "...                     ...  ...                  ...\n",
              "2021-03-25         0.015929  ...            -0.003586\n",
              "2021-03-26        -0.034441  ...             0.025122\n",
              "2021-03-29        -0.012065  ...             0.006855\n",
              "2021-03-30         0.039029  ...             0.002937\n",
              "2021-03-31         0.049582  ...            -0.033283\n",
              "\n",
              "[252 rows x 5 columns]"
            ]
          },
          "execution_count": 124,
          "metadata": {
            "tags": []
          },
          "output_type": "execute_result"
        }
      ],
      "source": [
        "log_return"
      ]
    },
    {
      "cell_type": "code",
      "execution_count": null,
      "metadata": {
        "colab": {
          "base_uri": "https://localhost:8080/"
        },
        "id": "FIXvp9-fvfXS",
        "outputId": "ae171588-6438-4d5c-896e-ae753767abaf"
      },
      "outputs": [
        {
          "data": {
            "text/plain": [
              "Return of Tesla        0.007715\n",
              "Return of Boeing       0.002658\n",
              "Return of Nautilus     0.006984\n",
              "Return of Disney       0.002648\n",
              "Return of Lululemon    0.002047\n",
              "dtype: float64"
            ]
          },
          "execution_count": 125,
          "metadata": {
            "tags": []
          },
          "output_type": "execute_result"
        }
      ],
      "source": [
        "log_return.mean()"
      ]
    },
    {
      "cell_type": "code",
      "execution_count": null,
      "metadata": {
        "colab": {
          "base_uri": "https://localhost:8080/"
        },
        "id": "e6lOoA5cvn4a",
        "outputId": "1b294295-781f-4182-ac4b-47fd1bf8026f"
      },
      "outputs": [
        {
          "data": {
            "text/plain": [
              "Return of Tesla        0.047957\n",
              "Return of Boeing       0.040765\n",
              "Return of Nautilus     0.067495\n",
              "Return of Disney       0.023650\n",
              "Return of Lululemon    0.024434\n",
              "dtype: float64"
            ]
          },
          "execution_count": 127,
          "metadata": {
            "tags": []
          },
          "output_type": "execute_result"
        }
      ],
      "source": [
        "log_return.std()"
      ]
    },
    {
      "cell_type": "code",
      "execution_count": null,
      "metadata": {
        "id": "piGvfsC9wZN4"
      },
      "outputs": [],
      "source": [
        "#Define rf\n",
        "rf=0.02"
      ]
    },
    {
      "cell_type": "code",
      "execution_count": null,
      "metadata": {
        "id": "wMkt3cT-wZR0"
      },
      "outputs": [],
      "source": [
        "np.random.seed(42)\n",
        "num_ports = 10000\n",
        "all_weights = np.zeros((num_ports, len(portfolio.columns)))\n",
        "return_arr = np.zeros(num_ports)\n",
        "volatility_arr = np.zeros(num_ports)\n",
        "sharpe_arr = np.zeros(num_ports)\n",
        "\n",
        "for x in range(num_ports):\n",
        "    # Weights\n",
        "    weights = np.array(np.random.random(len(portfolio.columns)))\n",
        "    weights = weights/np.sum(weights)\n",
        "    \n",
        "    # Save weights\n",
        "    all_weights[x,:] = weights\n",
        "    \n",
        "    # Expected return\n",
        "    return_arr[x] = np.sum((log_return.mean() * weights *252))\n",
        "    #ret_arr[x] = np.sum((ret.mean() * weights *252))\n",
        "    \n",
        "    # Expected volatility\n",
        "    volatility_arr[x] = np.sqrt(np.dot(weights.T, np.dot(log_return.cov()*252, weights)))\n",
        "    #vol_arr[x] = np.sqrt(np.dot(weights.T, np.dot(ret.cov()*252, weights)))\n",
        "    \n",
        "\n",
        "    sharpe_arr[x] = (return_arr[x]-rf)/volatility_arr[x]"
      ]
    },
    {
      "cell_type": "code",
      "execution_count": null,
      "metadata": {
        "id": "tpFm3DVPwZWF"
      },
      "outputs": [],
      "source": [
        ""
      ]
    },
    {
      "cell_type": "code",
      "execution_count": null,
      "metadata": {
        "colab": {
          "base_uri": "https://localhost:8080/"
        },
        "id": "WgjeUlutwZpF",
        "outputId": "406afcf3-f669-42d0-b4b7-34450998b54d"
      },
      "outputs": [
        {
          "name": "stdout",
          "output_type": "stream",
          "text": [
            "Minimum volatility in the array0.29392516110486727\n",
            "Its location in the array8813\n"
          ]
        }
      ],
      "source": [
        "print('Minimum volatility in the array{}'.format(volatility_arr.min()))\n",
        "print('Its location in the array{}'.format(volatility_arr.argmin()))"
      ]
    },
    {
      "cell_type": "code",
      "execution_count": null,
      "metadata": {
        "colab": {
          "base_uri": "https://localhost:8080/"
        },
        "id": "6qCrXWZpwZsZ",
        "outputId": "c9d85bf4-8f3c-4072-d53f-c6b5f4854cf7"
      },
      "outputs": [
        {
          "name": "stdout",
          "output_type": "stream",
          "text": [
            "[5.50811407e+00 5.01627749e-03 3.92680080e+00 4.95291722e+01\n",
            " 4.10308967e+01]\n"
          ]
        }
      ],
      "source": [
        "print(all_weights[volatility_arr.argmin(),:]*100)"
      ]
    },
    {
      "cell_type": "code",
      "execution_count": null,
      "metadata": {
        "id": "_CBHUq4xwZwg"
      },
      "outputs": [],
      "source": [
        ""
      ]
    },
    {
      "cell_type": "code",
      "execution_count": null,
      "metadata": {
        "colab": {
          "base_uri": "https://localhost:8080/",
          "height": 204
        },
        "id": "uRx_93jswZzR",
        "outputId": "c54acef9-58a7-4479-ea49-734d4415563e"
      },
      "outputs": [
        {
          "data": {
            "text/html": [
              "<div>\n",
              "<style scoped>\n",
              "    .dataframe tbody tr th:only-of-type {\n",
              "        vertical-align: middle;\n",
              "    }\n",
              "\n",
              "    .dataframe tbody tr th {\n",
              "        vertical-align: top;\n",
              "    }\n",
              "\n",
              "    .dataframe thead th {\n",
              "        text-align: right;\n",
              "    }\n",
              "</style>\n",
              "<table border=\"1\" class=\"dataframe\">\n",
              "  <thead>\n",
              "    <tr style=\"text-align: right;\">\n",
              "      <th></th>\n",
              "      <th>Tesla</th>\n",
              "      <th>Boeing</th>\n",
              "      <th>Nautilus</th>\n",
              "      <th>Disney</th>\n",
              "      <th>Lululemon</th>\n",
              "    </tr>\n",
              "  </thead>\n",
              "  <tbody>\n",
              "    <tr>\n",
              "      <th>Tesla</th>\n",
              "      <td>1.000000</td>\n",
              "      <td>0.750236</td>\n",
              "      <td>0.831156</td>\n",
              "      <td>0.913270</td>\n",
              "      <td>0.616072</td>\n",
              "    </tr>\n",
              "    <tr>\n",
              "      <th>Boeing</th>\n",
              "      <td>0.750236</td>\n",
              "      <td>1.000000</td>\n",
              "      <td>0.520819</td>\n",
              "      <td>0.862111</td>\n",
              "      <td>0.539912</td>\n",
              "    </tr>\n",
              "    <tr>\n",
              "      <th>Nautilus</th>\n",
              "      <td>0.831156</td>\n",
              "      <td>0.520819</td>\n",
              "      <td>1.000000</td>\n",
              "      <td>0.688001</td>\n",
              "      <td>0.648246</td>\n",
              "    </tr>\n",
              "    <tr>\n",
              "      <th>Disney</th>\n",
              "      <td>0.913270</td>\n",
              "      <td>0.862111</td>\n",
              "      <td>0.688001</td>\n",
              "      <td>1.000000</td>\n",
              "      <td>0.485600</td>\n",
              "    </tr>\n",
              "    <tr>\n",
              "      <th>Lululemon</th>\n",
              "      <td>0.616072</td>\n",
              "      <td>0.539912</td>\n",
              "      <td>0.648246</td>\n",
              "      <td>0.485600</td>\n",
              "      <td>1.000000</td>\n",
              "    </tr>\n",
              "  </tbody>\n",
              "</table>\n",
              "</div>"
            ],
            "text/plain": [
              "              Tesla    Boeing  Nautilus    Disney  Lululemon\n",
              "Tesla      1.000000  0.750236  0.831156  0.913270   0.616072\n",
              "Boeing     0.750236  1.000000  0.520819  0.862111   0.539912\n",
              "Nautilus   0.831156  0.520819  1.000000  0.688001   0.648246\n",
              "Disney     0.913270  0.862111  0.688001  1.000000   0.485600\n",
              "Lululemon  0.616072  0.539912  0.648246  0.485600   1.000000"
            ]
          },
          "execution_count": 132,
          "metadata": {
            "tags": []
          },
          "output_type": "execute_result"
        }
      ],
      "source": [
        "corrMatrix = portfolio.corr()\n",
        "corrMatrix"
      ]
    },
    {
      "cell_type": "code",
      "execution_count": null,
      "metadata": {
        "id": "suAUdXWPwZ2I"
      },
      "outputs": [],
      "source": [
        "import seaborn as sn"
      ]
    },
    {
      "cell_type": "code",
      "execution_count": null,
      "metadata": {
        "colab": {
          "base_uri": "https://localhost:8080/",
          "height": 279
        },
        "id": "FfRisPG54v7D",
        "outputId": "fdecda78-01c1-4eea-d76f-1d65afab02d4"
      },
      "outputs": [
        {
          "data": {
            "image/png": "[encoded data removed]",
            "text/plain": [
              "<Figure size 432x288 with 2 Axes>"
            ]
          },
          "metadata": {
            "tags": []
          },
          "output_type": "display_data"
        }
      ],
      "source": [
        "sn.heatmap(corrMatrix, annot=True)\n",
        "plt.show()"
      ]
    },
    {
      "cell_type": "code",
      "execution_count": null,
      "metadata": {
        "id": "POILRono4zMx"
      },
      "outputs": [],
      "source": [
        ""
      ]
    },
    {
      "cell_type": "code",
      "execution_count": null,
      "metadata": {
        "colab": {
          "base_uri": "https://localhost:8080/"
        },
        "id": "PpVwGNWC44gJ",
        "outputId": "0fe2e8bd-83d5-4905-eb5f-deeeb73fdfde"
      },
      "outputs": [
        {
          "name": "stdout",
          "output_type": "stream",
          "text": [
            "Maximum sharpe ratio in the array3.1592321225826767\n",
            "Its location in the array349\n"
          ]
        }
      ],
      "source": [
        "print('Maximum sharpe ratio in the array{}'.format(sharpe_arr.max()))\n",
        "print('Its location in the array{}'.format(sharpe_arr.argmax()))"
      ]
    },
    {
      "cell_type": "code",
      "execution_count": null,
      "metadata": {
        "colab": {
          "base_uri": "https://localhost:8080/"
        },
        "id": "Zznpm0vL44kf",
        "outputId": "c2cdda45-86ed-4981-8368-cebca2ec5520"
      },
      "outputs": [
        {
          "name": "stdout",
          "output_type": "stream",
          "text": [
            "[29.03600626  1.15773105 15.67264904 45.8627782   8.27083545]\n"
          ]
        }
      ],
      "source": [
        "print(all_weights[sharpe_arr.argmax(),:]*100)"
      ]
    },
    {
      "cell_type": "code",
      "execution_count": null,
      "metadata": {
        "id": "naqXl1H544pd"
      },
      "outputs": [],
      "source": [
        ""
      ]
    },
    {
      "cell_type": "code",
      "execution_count": null,
      "metadata": {
        "id": "hlvRvwOe5PQb"
      },
      "outputs": [],
      "source": [
        "betas=np.array((beta_tsla, beta_ba, beta_nls, beta_dis, beta_lulu))"
      ]
    },
    {
      "cell_type": "code",
      "execution_count": null,
      "metadata": {
        "id": "InITeTBB5PUA"
      },
      "outputs": [],
      "source": [
        "port_beta=np.dot(all_weights[sharpe_arr.argmax(),:],betas)"
      ]
    },
    {
      "cell_type": "code",
      "execution_count": null,
      "metadata": {
        "colab": {
          "base_uri": "https://localhost:8080/"
        },
        "id": "1gJWgXqu5PX-",
        "outputId": "184d7147-de8d-42dd-a7c0-5b5f7e78804c"
      },
      "outputs": [
        {
          "data": {
            "text/plain": [
              "1.1706087158724598"
            ]
          },
          "execution_count": 139,
          "metadata": {
            "tags": []
          },
          "output_type": "execute_result"
        }
      ],
      "source": [
        "port_beta"
      ]
    },
    {
      "cell_type": "code",
      "execution_count": null,
      "metadata": {
        "colab": {
          "base_uri": "https://localhost:8080/"
        },
        "id": "fTpdTu3Q5Pbu",
        "outputId": "f10e0a60-cc6a-4b25-ddc3-55a63995275a"
      },
      "outputs": [
        {
          "data": {
            "text/plain": [
              "0.0018976337965282654"
            ]
          },
          "execution_count": 140,
          "metadata": {
            "tags": []
          },
          "output_type": "execute_result"
        }
      ],
      "source": [
        "mkt_return=log_return_spy.mean()\n",
        "mkt_return"
      ]
    },
    {
      "cell_type": "code",
      "execution_count": null,
      "metadata": {
        "colab": {
          "base_uri": "https://localhost:8080/"
        },
        "id": "_XlClvnp54gR",
        "outputId": "79fc6555-db45-460a-b8e6-57657933b9e6"
      },
      "outputs": [
        {
          "data": {
            "text/plain": [
              "-0.0011907876556990632"
            ]
          },
          "execution_count": 141,
          "metadata": {
            "tags": []
          },
          "output_type": "execute_result"
        }
      ],
      "source": [
        "required_ret=rf+port_beta*(mkt_return-rf)\n",
        "required_ret"
      ]
    },
    {
      "cell_type": "code",
      "execution_count": null,
      "metadata": {
        "colab": {
          "base_uri": "https://localhost:8080/"
        },
        "id": "PKNu_aSc54lz",
        "outputId": "d2532994-3956-4b49-d511-a84ad9415b11"
      },
      "outputs": [
        {
          "name": "stdout",
          "output_type": "stream",
          "text": [
            "[*********************100%***********************]  1 of 1 downloaded\n",
            "[*********************100%***********************]  1 of 1 downloaded\n",
            "[*********************100%***********************]  1 of 1 downloaded\n",
            "[*********************100%***********************]  1 of 1 downloaded\n",
            "[*********************100%***********************]  1 of 1 downloaded\n"
          ]
        }
      ],
      "source": [
        "df12=pdr.get_data_yahoo(\"TSLA\", start=\"2021-04-02\", end=\"2021-04-27\")\n",
        "df22=pdr.get_data_yahoo(\"BA\", start=\"2021-04-02\", end=\"2021-04-27\")\n",
        "df32=pdr.get_data_yahoo(\"NLS\", start=\"2021-04-02\", end=\"2021-04-27\")\n",
        "df42=pdr.get_data_yahoo(\"DIS\", start=\"2021-04-02\", end=\"2021-04-27\")\n",
        "df52=pdr.get_data_yahoo(\"LULU\", start=\"2021-04-02\", end=\"2021-04-27\")"
      ]
    },
    {
      "cell_type": "code",
      "execution_count": null,
      "metadata": {
        "colab": {
          "base_uri": "https://localhost:8080/",
          "height": 576
        },
        "id": "qJ-4rReH54p4",
        "outputId": "cdd417f3-d5d8-4719-f6e7-78cfed4f30a0"
      },
      "outputs": [
        {
          "data": {
            "text/html": [
              "<div>\n",
              "<style scoped>\n",
              "    .dataframe tbody tr th:only-of-type {\n",
              "        vertical-align: middle;\n",
              "    }\n",
              "\n",
              "    .dataframe tbody tr th {\n",
              "        vertical-align: top;\n",
              "    }\n",
              "\n",
              "    .dataframe thead th {\n",
              "        text-align: right;\n",
              "    }\n",
              "</style>\n",
              "<table border=\"1\" class=\"dataframe\">\n",
              "  <thead>\n",
              "    <tr style=\"text-align: right;\">\n",
              "      <th></th>\n",
              "      <th>Open</th>\n",
              "      <th>High</th>\n",
              "      <th>Low</th>\n",
              "      <th>Close</th>\n",
              "      <th>Adj Close</th>\n",
              "      <th>Volume</th>\n",
              "    </tr>\n",
              "    <tr>\n",
              "      <th>Date</th>\n",
              "      <th></th>\n",
              "      <th></th>\n",
              "      <th></th>\n",
              "      <th></th>\n",
              "      <th></th>\n",
              "      <th></th>\n",
              "    </tr>\n",
              "  </thead>\n",
              "  <tbody>\n",
              "    <tr>\n",
              "      <th>2021-04-05</th>\n",
              "      <td>707.710022</td>\n",
              "      <td>708.159973</td>\n",
              "      <td>684.700012</td>\n",
              "      <td>691.049988</td>\n",
              "      <td>691.049988</td>\n",
              "      <td>41842800</td>\n",
              "    </tr>\n",
              "    <tr>\n",
              "      <th>2021-04-06</th>\n",
              "      <td>690.299988</td>\n",
              "      <td>696.549988</td>\n",
              "      <td>681.369995</td>\n",
              "      <td>691.619995</td>\n",
              "      <td>691.619995</td>\n",
              "      <td>28271800</td>\n",
              "    </tr>\n",
              "    <tr>\n",
              "      <th>2021-04-07</th>\n",
              "      <td>687.000000</td>\n",
              "      <td>691.380005</td>\n",
              "      <td>667.840027</td>\n",
              "      <td>670.969971</td>\n",
              "      <td>670.969971</td>\n",
              "      <td>26309400</td>\n",
              "    </tr>\n",
              "    <tr>\n",
              "      <th>2021-04-08</th>\n",
              "      <td>677.380005</td>\n",
              "      <td>689.549988</td>\n",
              "      <td>671.650024</td>\n",
              "      <td>683.799988</td>\n",
              "      <td>683.799988</td>\n",
              "      <td>23924300</td>\n",
              "    </tr>\n",
              "    <tr>\n",
              "      <th>2021-04-09</th>\n",
              "      <td>677.770020</td>\n",
              "      <td>680.969971</td>\n",
              "      <td>669.429993</td>\n",
              "      <td>677.020020</td>\n",
              "      <td>677.020020</td>\n",
              "      <td>21437100</td>\n",
              "    </tr>\n",
              "    <tr>\n",
              "      <th>2021-04-12</th>\n",
              "      <td>685.700012</td>\n",
              "      <td>704.799988</td>\n",
              "      <td>682.090027</td>\n",
              "      <td>701.979980</td>\n",
              "      <td>701.979980</td>\n",
              "      <td>29135700</td>\n",
              "    </tr>\n",
              "    <tr>\n",
              "      <th>2021-04-13</th>\n",
              "      <td>712.700012</td>\n",
              "      <td>763.000000</td>\n",
              "      <td>710.659973</td>\n",
              "      <td>762.320007</td>\n",
              "      <td>762.320007</td>\n",
              "      <td>44652800</td>\n",
              "    </tr>\n",
              "    <tr>\n",
              "      <th>2021-04-14</th>\n",
              "      <td>770.700012</td>\n",
              "      <td>780.789978</td>\n",
              "      <td>728.030029</td>\n",
              "      <td>732.229980</td>\n",
              "      <td>732.229980</td>\n",
              "      <td>49017400</td>\n",
              "    </tr>\n",
              "    <tr>\n",
              "      <th>2021-04-15</th>\n",
              "      <td>743.099976</td>\n",
              "      <td>743.690002</td>\n",
              "      <td>721.309998</td>\n",
              "      <td>738.849976</td>\n",
              "      <td>738.849976</td>\n",
              "      <td>27848900</td>\n",
              "    </tr>\n",
              "    <tr>\n",
              "      <th>2021-04-16</th>\n",
              "      <td>728.650024</td>\n",
              "      <td>749.409973</td>\n",
              "      <td>724.599976</td>\n",
              "      <td>739.780029</td>\n",
              "      <td>739.780029</td>\n",
              "      <td>27979500</td>\n",
              "    </tr>\n",
              "    <tr>\n",
              "      <th>2021-04-19</th>\n",
              "      <td>719.599976</td>\n",
              "      <td>725.400024</td>\n",
              "      <td>691.799988</td>\n",
              "      <td>714.630005</td>\n",
              "      <td>714.630005</td>\n",
              "      <td>39686200</td>\n",
              "    </tr>\n",
              "    <tr>\n",
              "      <th>2021-04-20</th>\n",
              "      <td>717.419983</td>\n",
              "      <td>737.250000</td>\n",
              "      <td>710.690002</td>\n",
              "      <td>718.989990</td>\n",
              "      <td>718.989990</td>\n",
              "      <td>35609000</td>\n",
              "    </tr>\n",
              "    <tr>\n",
              "      <th>2021-04-21</th>\n",
              "      <td>704.770020</td>\n",
              "      <td>744.840027</td>\n",
              "      <td>698.000000</td>\n",
              "      <td>744.119995</td>\n",
              "      <td>744.119995</td>\n",
              "      <td>31215500</td>\n",
              "    </tr>\n",
              "    <tr>\n",
              "      <th>2021-04-22</th>\n",
              "      <td>741.500000</td>\n",
              "      <td>753.770020</td>\n",
              "      <td>718.039978</td>\n",
              "      <td>719.690002</td>\n",
              "      <td>719.690002</td>\n",
              "      <td>35590300</td>\n",
              "    </tr>\n",
              "    <tr>\n",
              "      <th>2021-04-23</th>\n",
              "      <td>719.799988</td>\n",
              "      <td>737.359985</td>\n",
              "      <td>715.460022</td>\n",
              "      <td>729.400024</td>\n",
              "      <td>729.400024</td>\n",
              "      <td>28370000</td>\n",
              "    </tr>\n",
              "    <tr>\n",
              "      <th>2021-04-26</th>\n",
              "      <td>741.000000</td>\n",
              "      <td>749.299988</td>\n",
              "      <td>732.609985</td>\n",
              "      <td>738.200012</td>\n",
              "      <td>738.200012</td>\n",
              "      <td>31038500</td>\n",
              "    </tr>\n",
              "  </tbody>\n",
              "</table>\n",
              "</div>"
            ],
            "text/plain": [
              "                  Open        High  ...   Adj Close    Volume\n",
              "Date                                ...                      \n",
              "2021-04-05  707.710022  708.159973  ...  691.049988  41842800\n",
              "2021-04-06  690.299988  696.549988  ...  691.619995  28271800\n",
              "2021-04-07  687.000000  691.380005  ...  670.969971  26309400\n",
              "2021-04-08  677.380005  689.549988  ...  683.799988  23924300\n",
              "2021-04-09  677.770020  680.969971  ...  677.020020  21437100\n",
              "2021-04-12  685.700012  704.799988  ...  701.979980  29135700\n",
              "2021-04-13  712.700012  763.000000  ...  762.320007  44652800\n",
              "2021-04-14  770.700012  780.789978  ...  732.229980  49017400\n",
              "2021-04-15  743.099976  743.690002  ...  738.849976  27848900\n",
              "2021-04-16  728.650024  749.409973  ...  739.780029  27979500\n",
              "2021-04-19  719.599976  725.400024  ...  714.630005  39686200\n",
              "2021-04-20  717.419983  737.250000  ...  718.989990  35609000\n",
              "2021-04-21  704.770020  744.840027  ...  744.119995  31215500\n",
              "2021-04-22  741.500000  753.770020  ...  719.690002  35590300\n",
              "2021-04-23  719.799988  737.359985  ...  729.400024  28370000\n",
              "2021-04-26  741.000000  749.299988  ...  738.200012  31038500\n",
              "\n",
              "[16 rows x 6 columns]"
            ]
          },
          "execution_count": 143,
          "metadata": {
            "tags": []
          },
          "output_type": "execute_result"
        }
      ],
      "source": [
        "df12"
      ]
    },
    {
      "cell_type": "code",
      "execution_count": null,
      "metadata": {
        "colab": {
          "base_uri": "https://localhost:8080/"
        },
        "id": "U6PMdnfP6gkS",
        "outputId": "49170f4f-3844-453e-ed5c-d8f6652b3440"
      },
      "outputs": [
        {
          "data": {
            "text/plain": [
              "(16, 6)"
            ]
          },
          "execution_count": 144,
          "metadata": {
            "tags": []
          },
          "output_type": "execute_result"
        }
      ],
      "source": [
        "df12.shape"
      ]
    },
    {
      "cell_type": "code",
      "execution_count": null,
      "metadata": {
        "colab": {
          "base_uri": "https://localhost:8080/"
        },
        "id": "9umBpnFq6myv",
        "outputId": "9061ae12-57a2-4641-c4c3-30782d579067"
      },
      "outputs": [
        {
          "data": {
            "text/plain": [
              "691.049988"
            ]
          },
          "execution_count": 145,
          "metadata": {
            "tags": []
          },
          "output_type": "execute_result"
        }
      ],
      "source": [
        "df12.Close[0]"
      ]
    },
    {
      "cell_type": "code",
      "execution_count": null,
      "metadata": {
        "colab": {
          "base_uri": "https://localhost:8080/"
        },
        "id": "maH329e76uSN",
        "outputId": "58348d47-854e-48c5-bdcd-9ed3a455f591"
      },
      "outputs": [
        {
          "data": {
            "text/plain": [
              "738.200012"
            ]
          },
          "execution_count": 146,
          "metadata": {
            "tags": []
          },
          "output_type": "execute_result"
        }
      ],
      "source": [
        "df12.Close[15]"
      ]
    },
    {
      "cell_type": "code",
      "execution_count": null,
      "metadata": {
        "id": "HVyR0NkM61Bc"
      },
      "outputs": [],
      "source": [
        "beg_tsla=df12.Close[0]\n",
        "beg_ba=df22.Close[0]\n",
        "beg_nls=df32.Close[0]\n",
        "beg_dis=df42.Close[0]\n",
        "beg_lulu=df42.Close[0]"
      ]
    },
    {
      "cell_type": "code",
      "execution_count": null,
      "metadata": {
        "id": "SMZTl9NT7C30"
      },
      "outputs": [],
      "source": [
        "end_tsla=df12.Close[15]\n",
        "end_ba=df22.Close[15]\n",
        "end_nls=df32.Close[15]\n",
        "end_dis=df42.Close[15]\n",
        "end_lulu=df42.Close[15]"
      ]
    },
    {
      "cell_type": "code",
      "execution_count": null,
      "metadata": {
        "id": "ieU0fzyf7GN1"
      },
      "outputs": [],
      "source": [
        "begin=np.array((beg_tsla, beg_ba, beg_nls, beg_dis, beg_lulu))\n",
        "end=np.array((end_tsla, end_ba, end_nls, end_dis, beg_lulu))"
      ]
    },
    {
      "cell_type": "code",
      "execution_count": null,
      "metadata": {
        "id": "OZrpMaiD7JOz"
      },
      "outputs": [],
      "source": [
        ""
      ]
    },
    {
      "cell_type": "code",
      "execution_count": null,
      "metadata": {
        "id": "Dj4OVr_h7Ssi"
      },
      "outputs": [],
      "source": [
        "act_ret_num=np.dot(all_weights[sharpe_arr.argmax(),:],end)-np.dot(all_weights[sharpe_arr.argmax(),:],begin)"
      ]
    },
    {
      "cell_type": "code",
      "execution_count": null,
      "metadata": {
        "id": "Pj5nxNqp7S0c"
      },
      "outputs": [],
      "source": [
        "act_ret_temp=act_ret_num/np.dot(all_weights[sharpe_arr.argmax(),:],begin)"
      ]
    },
    {
      "cell_type": "code",
      "execution_count": null,
      "metadata": {
        "colab": {
          "base_uri": "https://localhost:8080/"
        },
        "id": "i4tiLPsF7S8r",
        "outputId": "58c1f0ce-b823-498f-fe52-f523ffd442ae"
      },
      "outputs": [
        {
          "data": {
            "text/plain": [
              "0.03789188216337003"
            ]
          },
          "execution_count": 152,
          "metadata": {
            "tags": []
          },
          "output_type": "execute_result"
        }
      ],
      "source": [
        "act_ret_temp"
      ]
    },
    {
      "cell_type": "code",
      "execution_count": null,
      "metadata": {
        "colab": {
          "base_uri": "https://localhost:8080/"
        },
        "id": "Op3aCnD27TDR",
        "outputId": "86d4fc89-49eb-4ae4-80ce-43151f6a4c09"
      },
      "outputs": [
        {
          "data": {
            "text/plain": [
              "-0.0011907876556990632"
            ]
          },
          "execution_count": 153,
          "metadata": {
            "tags": []
          },
          "output_type": "execute_result"
        }
      ],
      "source": [
        "required_ret"
      ]
    },
    {
      "cell_type": "code",
      "execution_count": null,
      "metadata": {
        "id": "b-MDopms74VS"
      },
      "outputs": [],
      "source": [
        ""
      ]
    }
  ],
  "metadata": {
    "colab": {
      "collapsed_sections": [],
      "name": "FIN 3710.Nadiia Buravskaia.Python.ipynb",
      "provenance": []
    },
    "kernelspec": {
      "display_name": "Python 3",
      "name": "python3"
    },
    "language_info": {
      "name": "python"
    }
  },
  "nbformat": 4,
  "nbformat_minor": 0
}
